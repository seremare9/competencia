{
 "cells": [
  {
   "cell_type": "code",
   "execution_count": 2,
   "id": "9ddca552",
   "metadata": {},
   "outputs": [],
   "source": [
    "import pandas as pd\n",
    "import numpy as np\n",
    "import sklearn\n",
    "from sklearn.metrics import r2_score"
   ]
  },
  {
   "cell_type": "markdown",
   "id": "86caee4d",
   "metadata": {},
   "source": [
    "Dataframes"
   ]
  },
  {
   "cell_type": "code",
   "execution_count": null,
   "id": "9527d797",
   "metadata": {},
   "outputs": [],
   "source": [
    "eci_customer_data = pd.read_csv('data/eci_customer_data.csv')\n",
    "eci_product_groups = pd.read_csv('data/eci_product_groups.csv')\n",
    "eci_product_master = pd.read_csv('data/eci_product_master.csv')\n",
    "eci_stores_clusters = pd.read_csv('data/eci_stores_clusters.csv')\n",
    "eci_stores_data = pd.read_csv('data/eci_stores.csv')\n",
    "eci_transactions = pd.read_csv('data/eci_transactions.csv')"
   ]
  },
  {
   "cell_type": "markdown",
   "id": "4d1f1606",
   "metadata": {},
   "source": [
    "## Análisis exploratorio de datos"
   ]
  },
  {
   "cell_type": "code",
   "execution_count": null,
   "id": "ae5e951c",
   "metadata": {},
   "outputs": [
    {
     "data": {
      "text/html": [
       "<div>\n",
       "<style scoped>\n",
       "    .dataframe tbody tr th:only-of-type {\n",
       "        vertical-align: middle;\n",
       "    }\n",
       "\n",
       "    .dataframe tbody tr th {\n",
       "        vertical-align: top;\n",
       "    }\n",
       "\n",
       "    .dataframe thead th {\n",
       "        text-align: right;\n",
       "    }\n",
       "</style>\n",
       "<table border=\"1\" class=\"dataframe\">\n",
       "  <thead>\n",
       "    <tr style=\"text-align: right;\">\n",
       "      <th></th>\n",
       "      <th>client_id</th>\n",
       "      <th>phone_number</th>\n",
       "      <th>email_address</th>\n",
       "      <th>city</th>\n",
       "      <th>state</th>\n",
       "      <th>zip_code</th>\n",
       "      <th>education_level</th>\n",
       "      <th>occupation</th>\n",
       "      <th>loyalty_member</th>\n",
       "      <th>loyalty_number</th>\n",
       "      <th>loyalty_points</th>\n",
       "    </tr>\n",
       "  </thead>\n",
       "  <tbody>\n",
       "    <tr>\n",
       "      <th>0</th>\n",
       "      <td>500001</td>\n",
       "      <td>NaN</td>\n",
       "      <td>n.edwards+spam@outlook.com</td>\n",
       "      <td>Spokane</td>\n",
       "      <td>WA</td>\n",
       "      <td>99201</td>\n",
       "      <td>High School</td>\n",
       "      <td>NaN</td>\n",
       "      <td>No</td>\n",
       "      <td>NaN</td>\n",
       "      <td>339</td>\n",
       "    </tr>\n",
       "    <tr>\n",
       "      <th>1</th>\n",
       "      <td>500002</td>\n",
       "      <td>(412) 698-7960</td>\n",
       "      <td>lisa_cook@yahoo.com</td>\n",
       "      <td>Pittsburgh</td>\n",
       "      <td>PA</td>\n",
       "      <td>15222</td>\n",
       "      <td>High School</td>\n",
       "      <td>Sales Representative</td>\n",
       "      <td>Yes</td>\n",
       "      <td>LP525082</td>\n",
       "      <td>406</td>\n",
       "    </tr>\n",
       "    <tr>\n",
       "      <th>2</th>\n",
       "      <td>500003</td>\n",
       "      <td>(303) 491-3774</td>\n",
       "      <td>NaN</td>\n",
       "      <td>Fort Collins</td>\n",
       "      <td>CO</td>\n",
       "      <td>80526</td>\n",
       "      <td>College Graduate</td>\n",
       "      <td>Analyst</td>\n",
       "      <td>True</td>\n",
       "      <td>950139</td>\n",
       "      <td>14</td>\n",
       "    </tr>\n",
       "    <tr>\n",
       "      <th>3</th>\n",
       "      <td>500004</td>\n",
       "      <td>(803) 255-0104</td>\n",
       "      <td>betty-campbell@gmail.com</td>\n",
       "      <td>Charleston</td>\n",
       "      <td>SC</td>\n",
       "      <td>29401</td>\n",
       "      <td>Some College</td>\n",
       "      <td>Supervisor</td>\n",
       "      <td>No</td>\n",
       "      <td>NaN</td>\n",
       "      <td>NaN</td>\n",
       "    </tr>\n",
       "    <tr>\n",
       "      <th>4</th>\n",
       "      <td>500005</td>\n",
       "      <td>(303) 596-8987</td>\n",
       "      <td>NaN</td>\n",
       "      <td>Aurora</td>\n",
       "      <td>CO</td>\n",
       "      <td>80012</td>\n",
       "      <td>Associates</td>\n",
       "      <td>NaN</td>\n",
       "      <td>Yes</td>\n",
       "      <td>NaN</td>\n",
       "      <td>NaN</td>\n",
       "    </tr>\n",
       "  </tbody>\n",
       "</table>\n",
       "</div>"
      ],
      "text/plain": [
       "   client_id    phone_number               email_address          city state  \\\n",
       "0     500001             NaN  n.edwards+spam@outlook.com       Spokane    WA   \n",
       "1     500002  (412) 698-7960         lisa_cook@yahoo.com    Pittsburgh    PA   \n",
       "2     500003  (303) 491-3774                         NaN  Fort Collins    CO   \n",
       "3     500004  (803) 255-0104    betty-campbell@gmail.com    Charleston    SC   \n",
       "4     500005  (303) 596-8987                         NaN        Aurora    CO   \n",
       "\n",
       "  zip_code   education_level            occupation loyalty_member  \\\n",
       "0    99201       High School                   NaN             No   \n",
       "1    15222       High School  Sales Representative            Yes   \n",
       "2    80526  College Graduate               Analyst           True   \n",
       "3    29401      Some College            Supervisor             No   \n",
       "4    80012        Associates                   NaN            Yes   \n",
       "\n",
       "  loyalty_number loyalty_points  \n",
       "0            NaN            339  \n",
       "1       LP525082            406  \n",
       "2         950139             14  \n",
       "3            NaN            NaN  \n",
       "4            NaN            NaN  "
      ]
     },
     "execution_count": 4,
     "metadata": {},
     "output_type": "execute_result"
    }
   ],
   "source": [
    "eci_customer_data.head()"
   ]
  },
  {
   "cell_type": "code",
   "execution_count": null,
   "id": "1ea47fef",
   "metadata": {},
   "outputs": [
    {
     "name": "stdout",
     "output_type": "stream",
     "text": [
      "<class 'pandas.core.frame.DataFrame'>\n",
      "RangeIndex: 801923 entries, 0 to 801922\n",
      "Data columns (total 11 columns):\n",
      " #   Column           Non-Null Count   Dtype \n",
      "---  ------           --------------   ----- \n",
      " 0   client_id        801923 non-null  int64 \n",
      " 1   phone_number     705749 non-null  object\n",
      " 2   email_address    657079 non-null  object\n",
      " 3   city             801923 non-null  object\n",
      " 4   state            801923 non-null  object\n",
      " 5   zip_code         734663 non-null  object\n",
      " 6   education_level  682042 non-null  object\n",
      " 7   occupation       657407 non-null  object\n",
      " 8   loyalty_member   762074 non-null  object\n",
      " 9   loyalty_number   440681 non-null  object\n",
      " 10  loyalty_points   392749 non-null  object\n",
      "dtypes: int64(1), object(10)\n",
      "memory usage: 67.3+ MB\n"
     ]
    }
   ],
   "source": [
    "eci_customer_data.info()"
   ]
  },
  {
   "cell_type": "code",
   "execution_count": null,
   "id": "c49c1a14",
   "metadata": {},
   "outputs": [
    {
     "data": {
      "text/html": [
       "<div>\n",
       "<style scoped>\n",
       "    .dataframe tbody tr th:only-of-type {\n",
       "        vertical-align: middle;\n",
       "    }\n",
       "\n",
       "    .dataframe tbody tr th {\n",
       "        vertical-align: top;\n",
       "    }\n",
       "\n",
       "    .dataframe thead th {\n",
       "        text-align: right;\n",
       "    }\n",
       "</style>\n",
       "<table border=\"1\" class=\"dataframe\">\n",
       "  <thead>\n",
       "    <tr style=\"text-align: right;\">\n",
       "      <th></th>\n",
       "      <th>client_id</th>\n",
       "      <th>phone_number</th>\n",
       "      <th>email_address</th>\n",
       "      <th>city</th>\n",
       "      <th>state</th>\n",
       "      <th>zip_code</th>\n",
       "      <th>education_level</th>\n",
       "      <th>occupation</th>\n",
       "      <th>loyalty_member</th>\n",
       "      <th>loyalty_number</th>\n",
       "      <th>loyalty_points</th>\n",
       "    </tr>\n",
       "  </thead>\n",
       "  <tbody>\n",
       "    <tr>\n",
       "      <th>count</th>\n",
       "      <td>8.019230e+05</td>\n",
       "      <td>705749</td>\n",
       "      <td>657079</td>\n",
       "      <td>801923</td>\n",
       "      <td>801923</td>\n",
       "      <td>734663</td>\n",
       "      <td>682042</td>\n",
       "      <td>657407</td>\n",
       "      <td>762074</td>\n",
       "      <td>440681</td>\n",
       "      <td>392749</td>\n",
       "    </tr>\n",
       "    <tr>\n",
       "      <th>unique</th>\n",
       "      <td>NaN</td>\n",
       "      <td>684761</td>\n",
       "      <td>418024</td>\n",
       "      <td>108</td>\n",
       "      <td>22</td>\n",
       "      <td>341</td>\n",
       "      <td>27</td>\n",
       "      <td>38</td>\n",
       "      <td>8</td>\n",
       "      <td>386689</td>\n",
       "      <td>27254</td>\n",
       "    </tr>\n",
       "    <tr>\n",
       "      <th>top</th>\n",
       "      <td>NaN</td>\n",
       "      <td>555-1234</td>\n",
       "      <td>@gmail.com</td>\n",
       "      <td>Columbus</td>\n",
       "      <td>FL</td>\n",
       "      <td>43229</td>\n",
       "      <td>Bachelor's Degree</td>\n",
       "      <td>Manager</td>\n",
       "      <td>Yes</td>\n",
       "      <td>PENDING</td>\n",
       "      <td>9999999</td>\n",
       "    </tr>\n",
       "    <tr>\n",
       "      <th>freq</th>\n",
       "      <td>NaN</td>\n",
       "      <td>3486</td>\n",
       "      <td>2365</td>\n",
       "      <td>18116</td>\n",
       "      <td>50144</td>\n",
       "      <td>5259</td>\n",
       "      <td>109273</td>\n",
       "      <td>49897</td>\n",
       "      <td>267105</td>\n",
       "      <td>3804</td>\n",
       "      <td>1292</td>\n",
       "    </tr>\n",
       "    <tr>\n",
       "      <th>mean</th>\n",
       "      <td>1.010913e+06</td>\n",
       "      <td>NaN</td>\n",
       "      <td>NaN</td>\n",
       "      <td>NaN</td>\n",
       "      <td>NaN</td>\n",
       "      <td>NaN</td>\n",
       "      <td>NaN</td>\n",
       "      <td>NaN</td>\n",
       "      <td>NaN</td>\n",
       "      <td>NaN</td>\n",
       "      <td>NaN</td>\n",
       "    </tr>\n",
       "    <tr>\n",
       "      <th>std</th>\n",
       "      <td>2.950790e+05</td>\n",
       "      <td>NaN</td>\n",
       "      <td>NaN</td>\n",
       "      <td>NaN</td>\n",
       "      <td>NaN</td>\n",
       "      <td>NaN</td>\n",
       "      <td>NaN</td>\n",
       "      <td>NaN</td>\n",
       "      <td>NaN</td>\n",
       "      <td>NaN</td>\n",
       "      <td>NaN</td>\n",
       "    </tr>\n",
       "    <tr>\n",
       "      <th>min</th>\n",
       "      <td>5.000010e+05</td>\n",
       "      <td>NaN</td>\n",
       "      <td>NaN</td>\n",
       "      <td>NaN</td>\n",
       "      <td>NaN</td>\n",
       "      <td>NaN</td>\n",
       "      <td>NaN</td>\n",
       "      <td>NaN</td>\n",
       "      <td>NaN</td>\n",
       "      <td>NaN</td>\n",
       "      <td>NaN</td>\n",
       "    </tr>\n",
       "    <tr>\n",
       "      <th>25%</th>\n",
       "      <td>7.551395e+05</td>\n",
       "      <td>NaN</td>\n",
       "      <td>NaN</td>\n",
       "      <td>NaN</td>\n",
       "      <td>NaN</td>\n",
       "      <td>NaN</td>\n",
       "      <td>NaN</td>\n",
       "      <td>NaN</td>\n",
       "      <td>NaN</td>\n",
       "      <td>NaN</td>\n",
       "      <td>NaN</td>\n",
       "    </tr>\n",
       "    <tr>\n",
       "      <th>50%</th>\n",
       "      <td>1.010748e+06</td>\n",
       "      <td>NaN</td>\n",
       "      <td>NaN</td>\n",
       "      <td>NaN</td>\n",
       "      <td>NaN</td>\n",
       "      <td>NaN</td>\n",
       "      <td>NaN</td>\n",
       "      <td>NaN</td>\n",
       "      <td>NaN</td>\n",
       "      <td>NaN</td>\n",
       "      <td>NaN</td>\n",
       "    </tr>\n",
       "    <tr>\n",
       "      <th>75%</th>\n",
       "      <td>1.266510e+06</td>\n",
       "      <td>NaN</td>\n",
       "      <td>NaN</td>\n",
       "      <td>NaN</td>\n",
       "      <td>NaN</td>\n",
       "      <td>NaN</td>\n",
       "      <td>NaN</td>\n",
       "      <td>NaN</td>\n",
       "      <td>NaN</td>\n",
       "      <td>NaN</td>\n",
       "      <td>NaN</td>\n",
       "    </tr>\n",
       "    <tr>\n",
       "      <th>max</th>\n",
       "      <td>1.521951e+06</td>\n",
       "      <td>NaN</td>\n",
       "      <td>NaN</td>\n",
       "      <td>NaN</td>\n",
       "      <td>NaN</td>\n",
       "      <td>NaN</td>\n",
       "      <td>NaN</td>\n",
       "      <td>NaN</td>\n",
       "      <td>NaN</td>\n",
       "      <td>NaN</td>\n",
       "      <td>NaN</td>\n",
       "    </tr>\n",
       "  </tbody>\n",
       "</table>\n",
       "</div>"
      ],
      "text/plain": [
       "           client_id phone_number email_address      city   state zip_code  \\\n",
       "count   8.019230e+05       705749        657079    801923  801923   734663   \n",
       "unique           NaN       684761        418024       108      22      341   \n",
       "top              NaN     555-1234    @gmail.com  Columbus      FL    43229   \n",
       "freq             NaN         3486          2365     18116   50144     5259   \n",
       "mean    1.010913e+06          NaN           NaN       NaN     NaN      NaN   \n",
       "std     2.950790e+05          NaN           NaN       NaN     NaN      NaN   \n",
       "min     5.000010e+05          NaN           NaN       NaN     NaN      NaN   \n",
       "25%     7.551395e+05          NaN           NaN       NaN     NaN      NaN   \n",
       "50%     1.010748e+06          NaN           NaN       NaN     NaN      NaN   \n",
       "75%     1.266510e+06          NaN           NaN       NaN     NaN      NaN   \n",
       "max     1.521951e+06          NaN           NaN       NaN     NaN      NaN   \n",
       "\n",
       "          education_level occupation loyalty_member loyalty_number  \\\n",
       "count              682042     657407         762074         440681   \n",
       "unique                 27         38              8         386689   \n",
       "top     Bachelor's Degree    Manager            Yes        PENDING   \n",
       "freq               109273      49897         267105           3804   \n",
       "mean                  NaN        NaN            NaN            NaN   \n",
       "std                   NaN        NaN            NaN            NaN   \n",
       "min                   NaN        NaN            NaN            NaN   \n",
       "25%                   NaN        NaN            NaN            NaN   \n",
       "50%                   NaN        NaN            NaN            NaN   \n",
       "75%                   NaN        NaN            NaN            NaN   \n",
       "max                   NaN        NaN            NaN            NaN   \n",
       "\n",
       "       loyalty_points  \n",
       "count          392749  \n",
       "unique          27254  \n",
       "top           9999999  \n",
       "freq             1292  \n",
       "mean              NaN  \n",
       "std               NaN  \n",
       "min               NaN  \n",
       "25%               NaN  \n",
       "50%               NaN  \n",
       "75%               NaN  \n",
       "max               NaN  "
      ]
     },
     "execution_count": 6,
     "metadata": {},
     "output_type": "execute_result"
    }
   ],
   "source": [
    "# Resumen estadístico de eci_customer_data\n",
    "eci_customer_data.describe(include='all')"
   ]
  },
  {
   "cell_type": "code",
   "execution_count": 24,
   "id": "7220421a",
   "metadata": {},
   "outputs": [
    {
     "data": {
      "text/plain": [
       "client_id               0\n",
       "phone_number        96174\n",
       "email_address      144844\n",
       "city                    0\n",
       "state                   0\n",
       "zip_code            67260\n",
       "education_level    119881\n",
       "occupation         144516\n",
       "loyalty_member      39849\n",
       "loyalty_number     361242\n",
       "loyalty_points     409174\n",
       "dtype: int64"
      ]
     },
     "execution_count": 24,
     "metadata": {},
     "output_type": "execute_result"
    }
   ],
   "source": [
    "# Chequeamos missings\n",
    "eci_customer_data.isnull().sum()  "
   ]
  },
  {
   "cell_type": "code",
   "execution_count": 28,
   "id": "8d19a1c8",
   "metadata": {},
   "outputs": [
    {
     "name": "stdout",
     "output_type": "stream",
     "text": [
      "client_id          0.00\n",
      "phone_number       0.12\n",
      "email_address      0.18\n",
      "city               0.00\n",
      "state              0.00\n",
      "zip_code           0.08\n",
      "education_level    0.15\n",
      "occupation         0.18\n",
      "loyalty_member     0.05\n",
      "loyalty_number     0.45\n",
      "loyalty_points     0.51\n",
      "dtype: float64\n"
     ]
    }
   ],
   "source": [
    "print((eci_customer_data.isna().mean()).round(2))"
   ]
  },
  {
   "cell_type": "code",
   "execution_count": null,
   "id": "c82faf75",
   "metadata": {},
   "outputs": [
    {
     "name": "stdout",
     "output_type": "stream",
     "text": [
      "client_id 801923\n",
      "phone_number 684761\n",
      "email_address 418024\n",
      "city 108\n",
      "state 22\n",
      "zip_code 341\n",
      "education_level 27\n",
      "occupation 38\n",
      "loyalty_member 8\n",
      "loyalty_number 386689\n",
      "loyalty_points 27254\n"
     ]
    }
   ],
   "source": [
    "for col in eci_customer_data.columns:\n",
    "    print(col, eci_customer_data[col].nunique())"
   ]
  },
  {
   "cell_type": "code",
   "execution_count": 33,
   "id": "a6381806",
   "metadata": {},
   "outputs": [
    {
     "name": "stdout",
     "output_type": "stream",
     "text": [
      "['No' 'Yes' 'True' '1' nan 'N' 'Y' 'False' '0']\n"
     ]
    }
   ],
   "source": [
    "print(eci_customer_data['loyalty_member'].unique())"
   ]
  },
  {
   "cell_type": "code",
   "execution_count": 8,
   "id": "aa3cc796",
   "metadata": {},
   "outputs": [
    {
     "data": {
      "text/html": [
       "<div>\n",
       "<style scoped>\n",
       "    .dataframe tbody tr th:only-of-type {\n",
       "        vertical-align: middle;\n",
       "    }\n",
       "\n",
       "    .dataframe tbody tr th {\n",
       "        vertical-align: top;\n",
       "    }\n",
       "\n",
       "    .dataframe thead th {\n",
       "        text-align: right;\n",
       "    }\n",
       "</style>\n",
       "<table border=\"1\" class=\"dataframe\">\n",
       "  <thead>\n",
       "    <tr style=\"text-align: right;\">\n",
       "      <th></th>\n",
       "      <th>sku</th>\n",
       "      <th>product_name</th>\n",
       "      <th>price_group_id</th>\n",
       "      <th>price_group_name</th>\n",
       "      <th>group_type</th>\n",
       "    </tr>\n",
       "  </thead>\n",
       "  <tbody>\n",
       "    <tr>\n",
       "      <th>0</th>\n",
       "      <td>BOOEDTE001</td>\n",
       "      <td>PageTurn Essential Textbooks</td>\n",
       "      <td>BACK_TO_SCHOOL_01</td>\n",
       "      <td>Back to School Essentials</td>\n",
       "      <td>Seasonal</td>\n",
       "    </tr>\n",
       "    <tr>\n",
       "      <th>1</th>\n",
       "      <td>BOOEDTE002</td>\n",
       "      <td>Bookworm Advanced Textbooks</td>\n",
       "      <td>BACK_TO_SCHOOL_01</td>\n",
       "      <td>Back to School Essentials</td>\n",
       "      <td>Seasonal</td>\n",
       "    </tr>\n",
       "    <tr>\n",
       "      <th>2</th>\n",
       "      <td>BOOEDTE004</td>\n",
       "      <td>PageTurn Essential Textbooks</td>\n",
       "      <td>BACK_TO_SCHOOL_01</td>\n",
       "      <td>Back to School Essentials</td>\n",
       "      <td>Seasonal</td>\n",
       "    </tr>\n",
       "    <tr>\n",
       "      <th>3</th>\n",
       "      <td>CLOMESH002</td>\n",
       "      <td>DressRight Shirts Collection</td>\n",
       "      <td>BACK_TO_SCHOOL_01</td>\n",
       "      <td>Back to School Essentials</td>\n",
       "      <td>Seasonal</td>\n",
       "    </tr>\n",
       "    <tr>\n",
       "      <th>4</th>\n",
       "      <td>CLOMESH005</td>\n",
       "      <td>StyleX Relaxed Shirts</td>\n",
       "      <td>BACK_TO_SCHOOL_01</td>\n",
       "      <td>Back to School Essentials</td>\n",
       "      <td>Seasonal</td>\n",
       "    </tr>\n",
       "  </tbody>\n",
       "</table>\n",
       "</div>"
      ],
      "text/plain": [
       "          sku                  product_name     price_group_id  \\\n",
       "0  BOOEDTE001  PageTurn Essential Textbooks  BACK_TO_SCHOOL_01   \n",
       "1  BOOEDTE002   Bookworm Advanced Textbooks  BACK_TO_SCHOOL_01   \n",
       "2  BOOEDTE004  PageTurn Essential Textbooks  BACK_TO_SCHOOL_01   \n",
       "3  CLOMESH002  DressRight Shirts Collection  BACK_TO_SCHOOL_01   \n",
       "4  CLOMESH005         StyleX Relaxed Shirts  BACK_TO_SCHOOL_01   \n",
       "\n",
       "            price_group_name group_type  \n",
       "0  Back to School Essentials   Seasonal  \n",
       "1  Back to School Essentials   Seasonal  \n",
       "2  Back to School Essentials   Seasonal  \n",
       "3  Back to School Essentials   Seasonal  \n",
       "4  Back to School Essentials   Seasonal  "
      ]
     },
     "execution_count": 8,
     "metadata": {},
     "output_type": "execute_result"
    }
   ],
   "source": [
    "eci_product_groups.head()"
   ]
  },
  {
   "cell_type": "code",
   "execution_count": 9,
   "id": "62cfadd6",
   "metadata": {},
   "outputs": [
    {
     "name": "stdout",
     "output_type": "stream",
     "text": [
      "<class 'pandas.core.frame.DataFrame'>\n",
      "RangeIndex: 80 entries, 0 to 79\n",
      "Data columns (total 5 columns):\n",
      " #   Column            Non-Null Count  Dtype \n",
      "---  ------            --------------  ----- \n",
      " 0   sku               80 non-null     object\n",
      " 1   product_name      80 non-null     object\n",
      " 2   price_group_id    80 non-null     object\n",
      " 3   price_group_name  80 non-null     object\n",
      " 4   group_type        80 non-null     object\n",
      "dtypes: object(5)\n",
      "memory usage: 3.3+ KB\n"
     ]
    }
   ],
   "source": [
    "eci_product_groups.info()"
   ]
  },
  {
   "cell_type": "code",
   "execution_count": 10,
   "id": "28764d56",
   "metadata": {},
   "outputs": [
    {
     "name": "stdout",
     "output_type": "stream",
     "text": [
      "sku 73\n",
      "product_name 70\n",
      "price_group_id 8\n",
      "price_group_name 8\n",
      "group_type 5\n"
     ]
    }
   ],
   "source": [
    "for col in eci_product_groups.columns:\n",
    "    print(col, eci_product_groups[col].nunique())"
   ]
  },
  {
   "cell_type": "code",
   "execution_count": 38,
   "id": "6616988c",
   "metadata": {},
   "outputs": [
    {
     "name": "stdout",
     "output_type": "stream",
     "text": [
      "['BACK_TO_SCHOOL_01' 'CASUAL_BOTTOMS_01' 'COMP_SETUP_01'\n",
      " 'FITNESS_COMBO_01' 'GIFT_UNDER_50_01' 'MOBILE_DEVICES_01'\n",
      " 'MOVIE_NIGHT_01' 'WELLNESS_BUNDLE_01']\n"
     ]
    }
   ],
   "source": [
    "print(eci_product_groups['price_group_id'].unique())"
   ]
  },
  {
   "cell_type": "code",
   "execution_count": 39,
   "id": "7fb73ba9",
   "metadata": {},
   "outputs": [
    {
     "name": "stdout",
     "output_type": "stream",
     "text": [
      "['Back to School Essentials' 'Casual Bottoms' 'Computer Setup Essentials'\n",
      " 'Complete Fitness Package' 'Gift Ideas Under $50'\n",
      " 'Personal Computing Devices' 'Movie Night Snacks' 'Wellness & Self-Care']\n"
     ]
    }
   ],
   "source": [
    "print(eci_product_groups['price_group_name'].unique())"
   ]
  },
  {
   "cell_type": "code",
   "execution_count": 37,
   "id": "9557db7d",
   "metadata": {},
   "outputs": [
    {
     "name": "stdout",
     "output_type": "stream",
     "text": [
      "['Seasonal' 'Substitute' 'Bundle' 'Promotional' 'Lifestyle']\n"
     ]
    }
   ],
   "source": [
    "print(eci_product_groups['group_type'].unique())"
   ]
  },
  {
   "cell_type": "code",
   "execution_count": 11,
   "id": "af3e150b",
   "metadata": {},
   "outputs": [
    {
     "data": {
      "text/html": [
       "<div>\n",
       "<style scoped>\n",
       "    .dataframe tbody tr th:only-of-type {\n",
       "        vertical-align: middle;\n",
       "    }\n",
       "\n",
       "    .dataframe tbody tr th {\n",
       "        vertical-align: top;\n",
       "    }\n",
       "\n",
       "    .dataframe thead th {\n",
       "        text-align: right;\n",
       "    }\n",
       "</style>\n",
       "<table border=\"1\" class=\"dataframe\">\n",
       "  <thead>\n",
       "    <tr style=\"text-align: right;\">\n",
       "      <th></th>\n",
       "      <th>sku</th>\n",
       "      <th>product_name</th>\n",
       "      <th>category</th>\n",
       "      <th>group</th>\n",
       "      <th>subgroup</th>\n",
       "      <th>brand</th>\n",
       "      <th>base_price</th>\n",
       "      <th>initial_ticket_price</th>\n",
       "      <th>costos</th>\n",
       "    </tr>\n",
       "  </thead>\n",
       "  <tbody>\n",
       "    <tr>\n",
       "      <th>0</th>\n",
       "      <td>ELECOLA001</td>\n",
       "      <td>TechPro Laptops Smart 2025</td>\n",
       "      <td>Electronics</td>\n",
       "      <td>Computing</td>\n",
       "      <td>Laptops</td>\n",
       "      <td>TechPro</td>\n",
       "      <td>284.94</td>\n",
       "      <td>355.14</td>\n",
       "      <td>225.84</td>\n",
       "    </tr>\n",
       "    <tr>\n",
       "      <th>1</th>\n",
       "      <td>ELECOLA002</td>\n",
       "      <td>Electra Laptops Ultra Pro</td>\n",
       "      <td>Electronics</td>\n",
       "      <td>Computing</td>\n",
       "      <td>Laptops</td>\n",
       "      <td>Electra</td>\n",
       "      <td>311.83</td>\n",
       "      <td>352.74</td>\n",
       "      <td>209.99</td>\n",
       "    </tr>\n",
       "    <tr>\n",
       "      <th>2</th>\n",
       "      <td>ELECOLA003</td>\n",
       "      <td>CircuitCity Laptops Air 2024</td>\n",
       "      <td>Electronics</td>\n",
       "      <td>Computing</td>\n",
       "      <td>Laptops</td>\n",
       "      <td>CircuitCity</td>\n",
       "      <td>246.96</td>\n",
       "      <td>301.35</td>\n",
       "      <td>192.61</td>\n",
       "    </tr>\n",
       "    <tr>\n",
       "      <th>3</th>\n",
       "      <td>ELECOLA004</td>\n",
       "      <td>TechPro Laptops Elite 2025</td>\n",
       "      <td>Electronics</td>\n",
       "      <td>Computing</td>\n",
       "      <td>Laptops</td>\n",
       "      <td>TechPro</td>\n",
       "      <td>324.96</td>\n",
       "      <td>420.49</td>\n",
       "      <td>212.23</td>\n",
       "    </tr>\n",
       "    <tr>\n",
       "      <th>4</th>\n",
       "      <td>ELECOLA005</td>\n",
       "      <td>CircuitCity Laptops Pro S</td>\n",
       "      <td>Electronics</td>\n",
       "      <td>Computing</td>\n",
       "      <td>Laptops</td>\n",
       "      <td>CircuitCity</td>\n",
       "      <td>339.88</td>\n",
       "      <td>386.23</td>\n",
       "      <td>231.75</td>\n",
       "    </tr>\n",
       "  </tbody>\n",
       "</table>\n",
       "</div>"
      ],
      "text/plain": [
       "          sku                  product_name     category      group subgroup  \\\n",
       "0  ELECOLA001    TechPro Laptops Smart 2025  Electronics  Computing  Laptops   \n",
       "1  ELECOLA002     Electra Laptops Ultra Pro  Electronics  Computing  Laptops   \n",
       "2  ELECOLA003  CircuitCity Laptops Air 2024  Electronics  Computing  Laptops   \n",
       "3  ELECOLA004    TechPro Laptops Elite 2025  Electronics  Computing  Laptops   \n",
       "4  ELECOLA005     CircuitCity Laptops Pro S  Electronics  Computing  Laptops   \n",
       "\n",
       "         brand  base_price  initial_ticket_price  costos  \n",
       "0      TechPro      284.94                355.14  225.84  \n",
       "1      Electra      311.83                352.74  209.99  \n",
       "2  CircuitCity      246.96                301.35  192.61  \n",
       "3      TechPro      324.96                420.49  212.23  \n",
       "4  CircuitCity      339.88                386.23  231.75  "
      ]
     },
     "execution_count": 11,
     "metadata": {},
     "output_type": "execute_result"
    }
   ],
   "source": [
    "eci_product_master.head()"
   ]
  },
  {
   "cell_type": "code",
   "execution_count": 12,
   "id": "71084cf9",
   "metadata": {},
   "outputs": [
    {
     "name": "stdout",
     "output_type": "stream",
     "text": [
      "<class 'pandas.core.frame.DataFrame'>\n",
      "RangeIndex: 861 entries, 0 to 860\n",
      "Data columns (total 9 columns):\n",
      " #   Column                Non-Null Count  Dtype  \n",
      "---  ------                --------------  -----  \n",
      " 0   sku                   861 non-null    object \n",
      " 1   product_name          861 non-null    object \n",
      " 2   category              861 non-null    object \n",
      " 3   group                 861 non-null    object \n",
      " 4   subgroup              861 non-null    object \n",
      " 5   brand                 861 non-null    object \n",
      " 6   base_price            861 non-null    float64\n",
      " 7   initial_ticket_price  861 non-null    float64\n",
      " 8   costos                861 non-null    float64\n",
      "dtypes: float64(3), object(6)\n",
      "memory usage: 60.7+ KB\n"
     ]
    }
   ],
   "source": [
    "eci_product_master.info()"
   ]
  },
  {
   "cell_type": "code",
   "execution_count": 13,
   "id": "972a41ea",
   "metadata": {},
   "outputs": [
    {
     "name": "stdout",
     "output_type": "stream",
     "text": [
      "sku 854\n",
      "product_name 713\n",
      "category 8\n",
      "group 23\n",
      "subgroup 74\n",
      "brand 40\n",
      "base_price 801\n",
      "initial_ticket_price 818\n",
      "costos 770\n"
     ]
    }
   ],
   "source": [
    "for col in eci_product_master.columns:\n",
    "    print(col, eci_product_master[col].nunique())"
   ]
  },
  {
   "cell_type": "code",
   "execution_count": 41,
   "id": "55201c85",
   "metadata": {},
   "outputs": [
    {
     "name": "stdout",
     "output_type": "stream",
     "text": [
      "['Electronics' 'Clothing' 'Home & Kitchen' 'Sports' 'Books' 'Beauty'\n",
      " 'Groceries' 'Toys']\n"
     ]
    }
   ],
   "source": [
    "print(eci_product_master['category'].unique())"
   ]
  },
  {
   "cell_type": "code",
   "execution_count": 14,
   "id": "b8de3f12",
   "metadata": {},
   "outputs": [
    {
     "data": {
      "text/html": [
       "<div>\n",
       "<style scoped>\n",
       "    .dataframe tbody tr th:only-of-type {\n",
       "        vertical-align: middle;\n",
       "    }\n",
       "\n",
       "    .dataframe tbody tr th {\n",
       "        vertical-align: top;\n",
       "    }\n",
       "\n",
       "    .dataframe thead th {\n",
       "        text-align: right;\n",
       "    }\n",
       "</style>\n",
       "<table border=\"1\" class=\"dataframe\">\n",
       "  <thead>\n",
       "    <tr style=\"text-align: right;\">\n",
       "      <th></th>\n",
       "      <th>STORE_ID</th>\n",
       "      <th>BRAND</th>\n",
       "      <th>STORE_NAME</th>\n",
       "      <th>CLUSTER</th>\n",
       "    </tr>\n",
       "  </thead>\n",
       "  <tbody>\n",
       "    <tr>\n",
       "      <th>0</th>\n",
       "      <td>S00001</td>\n",
       "      <td>PrimeGoods</td>\n",
       "      <td>PrimeGoods - Hillsboro</td>\n",
       "      <td>Cluster_West_Coast</td>\n",
       "    </tr>\n",
       "    <tr>\n",
       "      <th>1</th>\n",
       "      <td>S00002</td>\n",
       "      <td>MegaShop</td>\n",
       "      <td>MegaShop Indianapolis Eastside</td>\n",
       "      <td>Midwest_Cluster</td>\n",
       "    </tr>\n",
       "    <tr>\n",
       "      <th>2</th>\n",
       "      <td>STORE0003</td>\n",
       "      <td>MarketExpress</td>\n",
       "      <td>MarketExpress - Las Vegas</td>\n",
       "      <td>Mountain_Cluster</td>\n",
       "    </tr>\n",
       "    <tr>\n",
       "      <th>3</th>\n",
       "      <td>STORE0004</td>\n",
       "      <td>MegaShop</td>\n",
       "      <td>MegaShop - Oklahoma City</td>\n",
       "      <td>Texas_Cluster</td>\n",
       "    </tr>\n",
       "    <tr>\n",
       "      <th>4</th>\n",
       "      <td>S00005</td>\n",
       "      <td>PrimeGoods</td>\n",
       "      <td>PrimeGoods - Charlotte</td>\n",
       "      <td>NC_Cluster</td>\n",
       "    </tr>\n",
       "  </tbody>\n",
       "</table>\n",
       "</div>"
      ],
      "text/plain": [
       "    STORE_ID          BRAND                      STORE_NAME  \\\n",
       "0     S00001     PrimeGoods          PrimeGoods - Hillsboro   \n",
       "1     S00002       MegaShop  MegaShop Indianapolis Eastside   \n",
       "2  STORE0003  MarketExpress       MarketExpress - Las Vegas   \n",
       "3  STORE0004       MegaShop        MegaShop - Oklahoma City   \n",
       "4     S00005     PrimeGoods          PrimeGoods - Charlotte   \n",
       "\n",
       "              CLUSTER  \n",
       "0  Cluster_West_Coast  \n",
       "1     Midwest_Cluster  \n",
       "2    Mountain_Cluster  \n",
       "3       Texas_Cluster  \n",
       "4          NC_Cluster  "
      ]
     },
     "execution_count": 14,
     "metadata": {},
     "output_type": "execute_result"
    }
   ],
   "source": [
    "eci_stores_clusters.head()"
   ]
  },
  {
   "cell_type": "code",
   "execution_count": 15,
   "id": "35f64372",
   "metadata": {},
   "outputs": [
    {
     "name": "stdout",
     "output_type": "stream",
     "text": [
      "<class 'pandas.core.frame.DataFrame'>\n",
      "RangeIndex: 157 entries, 0 to 156\n",
      "Data columns (total 4 columns):\n",
      " #   Column      Non-Null Count  Dtype \n",
      "---  ------      --------------  ----- \n",
      " 0   STORE_ID    157 non-null    object\n",
      " 1   BRAND       157 non-null    object\n",
      " 2   STORE_NAME  157 non-null    object\n",
      " 3   CLUSTER     140 non-null    object\n",
      "dtypes: object(4)\n",
      "memory usage: 5.0+ KB\n"
     ]
    }
   ],
   "source": [
    "eci_stores_clusters.info()"
   ]
  },
  {
   "cell_type": "code",
   "execution_count": 16,
   "id": "34795c1c",
   "metadata": {},
   "outputs": [
    {
     "name": "stdout",
     "output_type": "stream",
     "text": [
      "STORE_ID 157\n",
      "BRAND 9\n",
      "STORE_NAME 144\n",
      "CLUSTER 13\n"
     ]
    }
   ],
   "source": [
    "for col in eci_stores_clusters.columns:\n",
    "    print(col, eci_stores_clusters[col].nunique())"
   ]
  },
  {
   "cell_type": "code",
   "execution_count": 17,
   "id": "2fdd7c14",
   "metadata": {},
   "outputs": [
    {
     "data": {
      "text/html": [
       "<div>\n",
       "<style scoped>\n",
       "    .dataframe tbody tr th:only-of-type {\n",
       "        vertical-align: middle;\n",
       "    }\n",
       "\n",
       "    .dataframe tbody tr th {\n",
       "        vertical-align: top;\n",
       "    }\n",
       "\n",
       "    .dataframe thead th {\n",
       "        text-align: right;\n",
       "    }\n",
       "</style>\n",
       "<table border=\"1\" class=\"dataframe\">\n",
       "  <thead>\n",
       "    <tr style=\"text-align: right;\">\n",
       "      <th></th>\n",
       "      <th>STORE_ID</th>\n",
       "      <th>BRAND</th>\n",
       "      <th>STORE_NAME</th>\n",
       "      <th>ADDRESS1</th>\n",
       "      <th>ADDRESS2</th>\n",
       "      <th>CITY</th>\n",
       "      <th>STATE</th>\n",
       "      <th>ZIP</th>\n",
       "      <th>OPENDATE</th>\n",
       "      <th>CLOSEDATE</th>\n",
       "      <th>STORE_TYPE</th>\n",
       "      <th>REGION</th>\n",
       "    </tr>\n",
       "  </thead>\n",
       "  <tbody>\n",
       "    <tr>\n",
       "      <th>0</th>\n",
       "      <td>S00001</td>\n",
       "      <td>PrimeGoods</td>\n",
       "      <td>PrimeGoods - Hillsboro</td>\n",
       "      <td>5735 NE Washington Pl</td>\n",
       "      <td>NaN</td>\n",
       "      <td>Hillsboro</td>\n",
       "      <td>OR</td>\n",
       "      <td>74820</td>\n",
       "      <td>2015-01-10 00:00:00</td>\n",
       "      <td>NaN</td>\n",
       "      <td>Express</td>\n",
       "      <td>West</td>\n",
       "    </tr>\n",
       "    <tr>\n",
       "      <th>1</th>\n",
       "      <td>S00002</td>\n",
       "      <td>MegaShop</td>\n",
       "      <td>MegaShop Indianapolis Eastside</td>\n",
       "      <td>3557  Cedar Ct</td>\n",
       "      <td>Unit 89</td>\n",
       "      <td>Indianapolis</td>\n",
       "      <td>IN</td>\n",
       "      <td>33483-1775</td>\n",
       "      <td>2012-03-23 00:00:00</td>\n",
       "      <td>NaN</td>\n",
       "      <td>Express</td>\n",
       "      <td>Midwest</td>\n",
       "    </tr>\n",
       "    <tr>\n",
       "      <th>2</th>\n",
       "      <td>STORE0003</td>\n",
       "      <td>MarketExpress</td>\n",
       "      <td>MarketExpress - Las Vegas</td>\n",
       "      <td>7870 W Church Ave</td>\n",
       "      <td>NaN</td>\n",
       "      <td>Las Vegas</td>\n",
       "      <td>NV</td>\n",
       "      <td>49099</td>\n",
       "      <td>2021-09-23 00:00:00</td>\n",
       "      <td>NaN</td>\n",
       "      <td>Outlet</td>\n",
       "      <td>West</td>\n",
       "    </tr>\n",
       "    <tr>\n",
       "      <th>3</th>\n",
       "      <td>STORE0004</td>\n",
       "      <td>MegaShop</td>\n",
       "      <td>MegaShop - Oklahoma City</td>\n",
       "      <td>3105 N Washington Pl</td>\n",
       "      <td>NaN</td>\n",
       "      <td>Oklahoma City</td>\n",
       "      <td>OK</td>\n",
       "      <td>80592</td>\n",
       "      <td>06/30/2015</td>\n",
       "      <td>NaN</td>\n",
       "      <td>Mall</td>\n",
       "      <td>Southwest</td>\n",
       "    </tr>\n",
       "    <tr>\n",
       "      <th>4</th>\n",
       "      <td>S00005</td>\n",
       "      <td>PrimeGoods</td>\n",
       "      <td>PrimeGoods - Charlotte</td>\n",
       "      <td>8756 SW Maple Ln</td>\n",
       "      <td>Suite 848</td>\n",
       "      <td>Charlotte</td>\n",
       "      <td>NC</td>\n",
       "      <td>32299</td>\n",
       "      <td>2019-06-10 00:00:00</td>\n",
       "      <td>NaN</td>\n",
       "      <td>Express</td>\n",
       "      <td>Southeast</td>\n",
       "    </tr>\n",
       "  </tbody>\n",
       "</table>\n",
       "</div>"
      ],
      "text/plain": [
       "    STORE_ID          BRAND                      STORE_NAME  \\\n",
       "0     S00001     PrimeGoods          PrimeGoods - Hillsboro   \n",
       "1     S00002       MegaShop  MegaShop Indianapolis Eastside   \n",
       "2  STORE0003  MarketExpress       MarketExpress - Las Vegas   \n",
       "3  STORE0004       MegaShop        MegaShop - Oklahoma City   \n",
       "4     S00005     PrimeGoods          PrimeGoods - Charlotte   \n",
       "\n",
       "                ADDRESS1   ADDRESS2           CITY STATE         ZIP  \\\n",
       "0  5735 NE Washington Pl        NaN      Hillsboro    OR       74820   \n",
       "1         3557  Cedar Ct    Unit 89   Indianapolis    IN  33483-1775   \n",
       "2      7870 W Church Ave        NaN      Las Vegas    NV       49099   \n",
       "3   3105 N Washington Pl        NaN  Oklahoma City    OK       80592   \n",
       "4       8756 SW Maple Ln  Suite 848      Charlotte    NC       32299   \n",
       "\n",
       "              OPENDATE CLOSEDATE STORE_TYPE     REGION  \n",
       "0  2015-01-10 00:00:00       NaN    Express       West  \n",
       "1  2012-03-23 00:00:00       NaN    Express    Midwest  \n",
       "2  2021-09-23 00:00:00       NaN     Outlet       West  \n",
       "3           06/30/2015       NaN       Mall  Southwest  \n",
       "4  2019-06-10 00:00:00       NaN    Express  Southeast  "
      ]
     },
     "execution_count": 17,
     "metadata": {},
     "output_type": "execute_result"
    }
   ],
   "source": [
    "eci_stores_data.head()"
   ]
  },
  {
   "cell_type": "code",
   "execution_count": 18,
   "id": "c5948e56",
   "metadata": {},
   "outputs": [
    {
     "name": "stdout",
     "output_type": "stream",
     "text": [
      "<class 'pandas.core.frame.DataFrame'>\n",
      "RangeIndex: 157 entries, 0 to 156\n",
      "Data columns (total 12 columns):\n",
      " #   Column      Non-Null Count  Dtype \n",
      "---  ------      --------------  ----- \n",
      " 0   STORE_ID    157 non-null    object\n",
      " 1   BRAND       157 non-null    object\n",
      " 2   STORE_NAME  157 non-null    object\n",
      " 3   ADDRESS1    157 non-null    object\n",
      " 4   ADDRESS2    43 non-null     object\n",
      " 5   CITY        157 non-null    object\n",
      " 6   STATE       157 non-null    object\n",
      " 7   ZIP         151 non-null    object\n",
      " 8   OPENDATE    157 non-null    object\n",
      " 9   CLOSEDATE   18 non-null     object\n",
      " 10  STORE_TYPE  155 non-null    object\n",
      " 11  REGION      157 non-null    object\n",
      "dtypes: object(12)\n",
      "memory usage: 14.8+ KB\n"
     ]
    }
   ],
   "source": [
    "eci_stores_data.info()"
   ]
  },
  {
   "cell_type": "code",
   "execution_count": 19,
   "id": "822cb3fa",
   "metadata": {},
   "outputs": [
    {
     "name": "stdout",
     "output_type": "stream",
     "text": [
      "STORE_ID 157\n",
      "BRAND 9\n",
      "STORE_NAME 144\n",
      "ADDRESS1 157\n",
      "ADDRESS2 34\n",
      "CITY 77\n",
      "STATE 22\n",
      "ZIP 151\n",
      "OPENDATE 155\n",
      "CLOSEDATE 18\n",
      "STORE_TYPE 8\n",
      "REGION 5\n"
     ]
    }
   ],
   "source": [
    "for col in eci_stores_data.columns:\n",
    "    print(col, eci_stores_data[col].nunique())"
   ]
  },
  {
   "cell_type": "code",
   "execution_count": 20,
   "id": "072d3739",
   "metadata": {},
   "outputs": [
    {
     "data": {
      "text/html": [
       "<div>\n",
       "<style scoped>\n",
       "    .dataframe tbody tr th:only-of-type {\n",
       "        vertical-align: middle;\n",
       "    }\n",
       "\n",
       "    .dataframe tbody tr th {\n",
       "        vertical-align: top;\n",
       "    }\n",
       "\n",
       "    .dataframe thead th {\n",
       "        text-align: right;\n",
       "    }\n",
       "</style>\n",
       "<table border=\"1\" class=\"dataframe\">\n",
       "  <thead>\n",
       "    <tr style=\"text-align: right;\">\n",
       "      <th></th>\n",
       "      <th>TRANSACTION_ID</th>\n",
       "      <th>DATE</th>\n",
       "      <th>STORE_ID</th>\n",
       "      <th>SKU</th>\n",
       "      <th>QUANTITY</th>\n",
       "      <th>PRICE</th>\n",
       "      <th>TOTAL_SALES</th>\n",
       "      <th>SUBGROUP</th>\n",
       "      <th>STORE_SUBGROUP_DATE_ID</th>\n",
       "    </tr>\n",
       "  </thead>\n",
       "  <tbody>\n",
       "    <tr>\n",
       "      <th>0</th>\n",
       "      <td>17185</td>\n",
       "      <td>2021-01-01</td>\n",
       "      <td>S00148</td>\n",
       "      <td>CLOMEJA001</td>\n",
       "      <td>1.0</td>\n",
       "      <td>52.80</td>\n",
       "      <td>52.80</td>\n",
       "      <td>Jackets</td>\n",
       "      <td>S00148_Jackets_2021-01-01</td>\n",
       "    </tr>\n",
       "    <tr>\n",
       "      <th>1</th>\n",
       "      <td>4108</td>\n",
       "      <td>2021-01-01</td>\n",
       "      <td>S00035</td>\n",
       "      <td>CLOCHIN014</td>\n",
       "      <td>1.0</td>\n",
       "      <td>55.25</td>\n",
       "      <td>55.25</td>\n",
       "      <td>Infants</td>\n",
       "      <td>S00035_Infants_2021-01-01</td>\n",
       "    </tr>\n",
       "    <tr>\n",
       "      <th>2</th>\n",
       "      <td>2400</td>\n",
       "      <td>2021-01-01</td>\n",
       "      <td>S00020</td>\n",
       "      <td>BEAHASH005</td>\n",
       "      <td>1.0</td>\n",
       "      <td>40.19</td>\n",
       "      <td>40.19</td>\n",
       "      <td>Shampoo</td>\n",
       "      <td>S00020_Shampoo_2021-01-01</td>\n",
       "    </tr>\n",
       "    <tr>\n",
       "      <th>3</th>\n",
       "      <td>7978</td>\n",
       "      <td>2021-01-01</td>\n",
       "      <td>S00068</td>\n",
       "      <td>TOYGABO004</td>\n",
       "      <td>1.0</td>\n",
       "      <td>35.41</td>\n",
       "      <td>35.41</td>\n",
       "      <td>Board Games</td>\n",
       "      <td>S00068_Board Games_2021-01-01</td>\n",
       "    </tr>\n",
       "    <tr>\n",
       "      <th>4</th>\n",
       "      <td>6946</td>\n",
       "      <td>2021-01-01</td>\n",
       "      <td>S00059</td>\n",
       "      <td>BEAHASH006</td>\n",
       "      <td>1.0</td>\n",
       "      <td>38.28</td>\n",
       "      <td>38.28</td>\n",
       "      <td>Shampoo</td>\n",
       "      <td>S00059_Shampoo_2021-01-01</td>\n",
       "    </tr>\n",
       "  </tbody>\n",
       "</table>\n",
       "</div>"
      ],
      "text/plain": [
       "   TRANSACTION_ID        DATE STORE_ID         SKU  QUANTITY  PRICE  \\\n",
       "0           17185  2021-01-01   S00148  CLOMEJA001       1.0  52.80   \n",
       "1            4108  2021-01-01   S00035  CLOCHIN014       1.0  55.25   \n",
       "2            2400  2021-01-01   S00020  BEAHASH005       1.0  40.19   \n",
       "3            7978  2021-01-01   S00068  TOYGABO004       1.0  35.41   \n",
       "4            6946  2021-01-01   S00059  BEAHASH006       1.0  38.28   \n",
       "\n",
       "   TOTAL_SALES     SUBGROUP         STORE_SUBGROUP_DATE_ID  \n",
       "0        52.80      Jackets      S00148_Jackets_2021-01-01  \n",
       "1        55.25      Infants      S00035_Infants_2021-01-01  \n",
       "2        40.19      Shampoo      S00020_Shampoo_2021-01-01  \n",
       "3        35.41  Board Games  S00068_Board Games_2021-01-01  \n",
       "4        38.28      Shampoo      S00059_Shampoo_2021-01-01  "
      ]
     },
     "execution_count": 20,
     "metadata": {},
     "output_type": "execute_result"
    }
   ],
   "source": [
    "eci_transactions.head()"
   ]
  },
  {
   "cell_type": "code",
   "execution_count": 21,
   "id": "3af142b3",
   "metadata": {},
   "outputs": [
    {
     "name": "stdout",
     "output_type": "stream",
     "text": [
      "<class 'pandas.core.frame.DataFrame'>\n",
      "RangeIndex: 19004759 entries, 0 to 19004758\n",
      "Data columns (total 9 columns):\n",
      " #   Column                  Dtype  \n",
      "---  ------                  -----  \n",
      " 0   TRANSACTION_ID          int64  \n",
      " 1   DATE                    object \n",
      " 2   STORE_ID                object \n",
      " 3   SKU                     object \n",
      " 4   QUANTITY                float64\n",
      " 5   PRICE                   float64\n",
      " 6   TOTAL_SALES             float64\n",
      " 7   SUBGROUP                object \n",
      " 8   STORE_SUBGROUP_DATE_ID  object \n",
      "dtypes: float64(3), int64(1), object(5)\n",
      "memory usage: 1.3+ GB\n"
     ]
    }
   ],
   "source": [
    "eci_transactions.info()"
   ]
  },
  {
   "cell_type": "code",
   "execution_count": 22,
   "id": "4dcde4f9",
   "metadata": {},
   "outputs": [
    {
     "name": "stdout",
     "output_type": "stream",
     "text": [
      "TRANSACTION_ID 19004759\n",
      "DATE 1095\n",
      "STORE_ID 152\n",
      "SKU 854\n",
      "QUANTITY 55\n",
      "PRICE 37291\n",
      "TOTAL_SALES 152992\n",
      "SUBGROUP 73\n",
      "STORE_SUBGROUP_DATE_ID 5206793\n"
     ]
    }
   ],
   "source": [
    "for col in eci_transactions.columns:\n",
    "    print(col, eci_transactions[col].nunique())"
   ]
  }
 ],
 "metadata": {
  "kernelspec": {
   "display_name": "td6",
   "language": "python",
   "name": "python3"
  },
  "language_info": {
   "codemirror_mode": {
    "name": "ipython",
    "version": 3
   },
   "file_extension": ".py",
   "mimetype": "text/x-python",
   "name": "python",
   "nbconvert_exporter": "python",
   "pygments_lexer": "ipython3",
   "version": "3.13.2"
  }
 },
 "nbformat": 4,
 "nbformat_minor": 5
}
